{
 "cells": [
  {
   "cell_type": "markdown",
   "metadata": {},
   "source": [
    "코테는 중견기업 이상 준비시  \n",
    "\n",
    "논문은 리서처 준비할 때"
   ]
  },
  {
   "cell_type": "markdown",
   "metadata": {},
   "source": [
    "# 1\n",
    "# https://programmers.co.kr/learn/courses/30/lessons/70128\n",
    "길이가 같은 두 1차원 정수 배열 a, b가 매개변수로 주어집니다. a와 b의 내적을 return 하도록 solution 함수를 완성해주세요.\n",
    "\n",
    "이때, a와 b의 내적은 a[0]*b[0] + a[1]*b[1] + ... + a[n-1]*b[n-1] 입니다. (n은 a, b의 길이)"
   ]
  },
  {
   "cell_type": "code",
   "execution_count": null,
   "metadata": {},
   "outputs": [],
   "source": [
    "\n",
    "# map, filter, reduce 데싸할 때 많이 씀\n",
    "\n",
    "def solution(a, b):   \n",
    "    return reduce(lambda x,y:x+y,map(lambda x,y:x*y,a,b))\n",
    "\n",
    "# zip 써보기\n",
    "def sol2(a,b):\n",
    "    return sum([x*y for x, y in zip(a,b)])"
   ]
  },
  {
   "cell_type": "markdown",
   "metadata": {},
   "source": [
    "# 2\n",
    "# https://programmers.co.kr/learn/courses/30/lessons/12912?language=python3\n",
    "\n",
    "두 정수 a, b가 주어졌을 때 a와 b 사이에 속한 모든 정수의 합을 리턴하는 함수, solution을 완성하세요.\n",
    "예를 들어 a = 3, b = 5인 경우, 3 + 4 + 5 = 12이므로 12를 리턴합니다."
   ]
  },
  {
   "cell_type": "code",
   "execution_count": 1,
   "metadata": {},
   "outputs": [],
   "source": [
    "# https://programmers.co.kr/learn/courses/30/lessons/12912?language=python3\n",
    "def solution(a,b):\n",
    "    return sum(range(min(a,b),max(a,b)+1))\n",
    "\n",
    "def solution(a,b):\n",
    "    return (a+b)*(abs(a-b)+1)//2\n",
    "# //는 정수로 반환하기 위해 씀. / 쓰면 부동소수점 나온다.\n",
    "# 피타고라스의 정리 np.sqrt(3**2 + 4**2) = 5.0 != 5\n",
    "# round 반올림, \n",
    "# math.ceil 올림\n",
    "# floor 버림\n",
    "\n",
    "# def solution(a,b):\n",
    "#     return (a+b)*abs(b-a+1)/2 내가 하다 망한 것\n"
   ]
  },
  {
   "cell_type": "code",
   "execution_count": 2,
   "metadata": {},
   "outputs": [],
   "source": [
    "# 정규표현식 조코딩: https://www.youtube.com/watch?v=dTDoTR0MXjU&list=PLU9-uwewPMe2AX9o9hFgv-nRvOcBdzvP5&index=10\n",
    "# https://brownbears.tistory.com/506\n",
    "# https://programmers.co.kr/learn/courses/30/lessons/72410\n",
    "import re\n"
   ]
  },
  {
   "cell_type": "code",
   "execution_count": null,
   "metadata": {},
   "outputs": [],
   "source": [
    "# 빅오 : https://wayhome25.github.io/python/2017/06/14/time-complexity/"
   ]
  },
  {
   "cell_type": "markdown",
   "metadata": {},
   "source": [
    "민제님에게 데싸 물어보기\n",
    "면접스터디/ MLops/ Gan/ Visual/ \n"
   ]
  }
 ],
 "metadata": {
  "kernelspec": {
   "display_name": "aiffel",
   "language": "python",
   "name": "aiffel"
  },
  "language_info": {
   "codemirror_mode": {
    "name": "ipython",
    "version": 3
   },
   "file_extension": ".py",
   "mimetype": "text/x-python",
   "name": "python",
   "nbconvert_exporter": "python",
   "pygments_lexer": "ipython3",
   "version": "3.7.9"
  }
 },
 "nbformat": 4,
 "nbformat_minor": 4
}
