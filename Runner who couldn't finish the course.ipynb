{
 "cells": [
  {
   "cell_type": "markdown",
   "id": "4d834877",
   "metadata": {},
   "source": [
    "https://programmers.co.kr/learn/courses/30/lessons/42576"
   ]
  },
  {
   "cell_type": "markdown",
   "id": "216de94a",
   "metadata": {},
   "source": [
    "마라톤에 참여한 선수들의 이름이 담긴 배열 participant와 완주한 선수들의 이름이 담긴 배열 completion이 주어질 때, 완주하지 못한 선수의 이름을 return 하도록 solution 함수를 작성해주세요.\n",
    "\n",
    "- 마라톤 경기에 참여한 선수의 수는 1명 이상 100,000명 이하입니다.\n",
    "- completion의 길이는 participant의 길이보다 1 작습니다.\n",
    "- 참가자의 이름은 1개 이상 20개 이하의 알파벳 소문자로 이루어져 있습니다.\n",
    "- 참가자 중에는 동명이인이 있을 수 있습니다.\n"
   ]
  },
  {
   "cell_type": "markdown",
   "id": "9be03160",
   "metadata": {},
   "source": [
    "part                                     compl                      return\n",
    "\n",
    "[\"mislav\", \"stanko\", \"mislav\", \"ana\"]\t[\"stanko\", \"ana\", \"mislav\"]\t\"mislav\""
   ]
  },
  {
   "cell_type": "markdown",
   "id": "8049ece2",
   "metadata": {},
   "source": [
    "# 1차 - 시간초과로 실패"
   ]
  },
  {
   "cell_type": "code",
   "execution_count": 1,
   "id": "34865118",
   "metadata": {},
   "outputs": [],
   "source": [
    "def sol(part,compl):\n",
    "    for i in part:\n",
    "        if i in compl:\n",
    "            compl.remove(i)\n",
    "        else:\n",
    "            return i "
   ]
  },
  {
   "cell_type": "markdown",
   "id": "f58a6232",
   "metadata": {},
   "source": [
    "# 2차 - 이전에 풀었던 풀이\n",
    "사람의 사고 흐름은 쉽게 안바뀌나 보다...\n",
    "\n",
    "시간 초과로 실패\n",
    "\n",
    "일일이 for문 돌릴려니까 시간초과가 된듯하다."
   ]
  },
  {
   "cell_type": "code",
   "execution_count": 4,
   "id": "bcaa5f0a",
   "metadata": {},
   "outputs": [],
   "source": [
    "def solution(participant, completion):\n",
    "    for i in range(len(completion)):\n",
    "        for j in range(len(participant)):\n",
    "            if participant[j] == completion[i]:\n",
    "                participant.pop(j)  \n",
    "                break\n",
    "        \n",
    "    return participant[0]"
   ]
  },
  {
   "cell_type": "markdown",
   "id": "4158913f",
   "metadata": {},
   "source": [
    "# 3차 - sort로 가보자\n",
    "뭔가 이상하다... 그냥 답을 찾아보았다."
   ]
  },
  {
   "cell_type": "code",
   "execution_count": 37,
   "id": "995e9c42",
   "metadata": {},
   "outputs": [],
   "source": [
    "def solution(part,comp):\n",
    "    part.sort()\n",
    "    comp.sort()\n",
    "    #... 뇌정지가 온 듯하다... 다시 정신차리고!\n",
    "    for i in comp:\n",
    "        if i in part:\n",
    "            part.remove(i)\n",
    "    return part[0]\n",
    "            \n",
    "            \n",
    "            "
   ]
  },
  {
   "cell_type": "code",
   "execution_count": 56,
   "id": "24a20a2e",
   "metadata": {},
   "outputs": [],
   "source": [
    "p = [\"mislav\", \"stanko\", \"mislav\", \"ana\"]\n",
    "c = [\"stanko\", \"ana\", \"mislav\"]\t\n",
    "# \"mislav\"\n"
   ]
  },
  {
   "cell_type": "markdown",
   "id": "27c4241c",
   "metadata": {},
   "source": [
    "# 4차 - Counter, hash사용\n",
    "'Collections'\n",
    "- import collections \n",
    "- collections에 내장된 함수인 Counter()는 Dic과 같이 hash형 자료들의 값의 개수를 셀 때 사용 \n",
    "- Dic처럼 {key:value} 형식으로 만들어짐 \n",
    "- Counter() 객체끼리 빼는 것도 가능\n",
    "- 0 (zero) 나 음수 (minus)의 값들도 가능\n",
    "- 해당하는 값이 없더라도 error가 아닌 0을 반환\n",
    "\n",
    "\n",
    "출처: https://wooaoe.tistory.com/71 [개발개발 울었다]"
   ]
  },
  {
   "cell_type": "code",
   "execution_count": 53,
   "id": "6ee8cb20",
   "metadata": {},
   "outputs": [
    {
     "name": "stdout",
     "output_type": "stream",
     "text": [
      "Counter({'mislav': 2, 'stanko': 1, 'ana': 1})\n",
      "Counter({'stanko': 1, 'ana': 1, 'mislav': 1})\n"
     ]
    },
    {
     "data": {
      "text/plain": [
       "['mislav']"
      ]
     },
     "execution_count": 53,
     "metadata": {},
     "output_type": "execute_result"
    }
   ],
   "source": [
    "import collections\n",
    "p = collections.Counter(p)\n",
    "c = collections.Counter(c)\n",
    "print(p)\n",
    "print(c)\n",
    "a = p-c\n",
    "list(a)"
   ]
  },
  {
   "cell_type": "code",
   "execution_count": 55,
   "id": "eefda6a4",
   "metadata": {},
   "outputs": [],
   "source": [
    "import collections\n",
    "def solution(part,comp):\n",
    "    ans = collections.Counter(part) - collections.Counter(comp)\n",
    "    return list(ans)[0]"
   ]
  },
  {
   "cell_type": "code",
   "execution_count": 58,
   "id": "0ae051bf",
   "metadata": {},
   "outputs": [
    {
     "data": {
      "text/plain": [
       "-2321578104322609208"
      ]
     },
     "execution_count": 58,
     "metadata": {},
     "output_type": "execute_result"
    }
   ],
   "source": [
    "# Counter을 구현한 것은 hash()를 쓰면 된다.\n",
    "# hash는 어떤 값을 고유한 정수형 값으로 돌려준다.\n",
    "hash('hey')"
   ]
  },
  {
   "cell_type": "code",
   "execution_count": 60,
   "id": "8be9da2f",
   "metadata": {},
   "outputs": [],
   "source": [
    "def solution(part,comp):\n",
    "    dic = {}\n",
    "    temp = 0\n",
    "    for i in part:\n",
    "        dic[hash(i)] = i\n",
    "        temp += hash(i)\n",
    "    for j in comp:\n",
    "        temp -= hash(j)\n",
    "    return dic[temp]\n",
    "    "
   ]
  },
  {
   "cell_type": "code",
   "execution_count": 61,
   "id": "2e376779",
   "metadata": {},
   "outputs": [
    {
     "data": {
      "text/plain": [
       "'mislav'"
      ]
     },
     "execution_count": 61,
     "metadata": {},
     "output_type": "execute_result"
    }
   ],
   "source": [
    "solution(p,c)"
   ]
  },
  {
   "cell_type": "code",
   "execution_count": null,
   "id": "c9089fcb",
   "metadata": {},
   "outputs": [],
   "source": []
  }
 ],
 "metadata": {
  "kernelspec": {
   "display_name": "Python 3",
   "language": "python",
   "name": "python3"
  },
  "language_info": {
   "codemirror_mode": {
    "name": "ipython",
    "version": 3
   },
   "file_extension": ".py",
   "mimetype": "text/x-python",
   "name": "python",
   "nbconvert_exporter": "python",
   "pygments_lexer": "ipython3",
   "version": "3.8.10"
  }
 },
 "nbformat": 4,
 "nbformat_minor": 5
}
