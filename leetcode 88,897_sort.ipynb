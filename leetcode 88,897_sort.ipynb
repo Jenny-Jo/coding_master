{
 "cells": [
  {
   "cell_type": "markdown",
   "metadata": {},
   "source": [
    "# 88\n",
    "https://leetcode.com/problems/merge-sorted-array/"
   ]
  },
  {
   "cell_type": "code",
   "execution_count": 8,
   "metadata": {},
   "outputs": [],
   "source": [
    "# correct\n",
    "def merge(self, nums1, m, nums2, n):\n",
    "    \"\"\"\n",
    "    Do not return anything, modify nums1 in-place instead.\n",
    "    \"\"\"\n",
    "    nums1[m:]=nums2\n",
    "    return nums1.sort()\n",
    "\n",
    "# nums1 자체로 값 재정렬하여 리턴하고 싶다면 sort()를 쓰는게 맞다."
   ]
  },
  {
   "cell_type": "code",
   "execution_count": 9,
   "metadata": {},
   "outputs": [],
   "source": [
    "# incorrect\n",
    "def merge(self, nums1, m, nums2, n):\n",
    "    \"\"\"\n",
    "    Do not return anything, modify nums1 in-place instead.\n",
    "    \"\"\"\n",
    "    nums1[m:]=nums2\n",
    "    return sorted(nums1)"
   ]
  },
  {
   "cell_type": "markdown",
   "metadata": {},
   "source": [
    "sort() 메서드\n",
    "\n",
    "  a.sort()\n",
    "  a\n",
    "  [1, 2, 3, 4, 5]\n",
    "\n",
    "sorted() 메서드\n",
    "\n",
    "  sorted([5, 2, 3, 1, 4])\n",
    "  [1, 2, 3, 4, 5]\n",
    "  a = [5, 2, 3, 1, 4]\n"
   ]
  },
  {
   "cell_type": "markdown",
   "metadata": {},
   "source": [
    "list.sort()은 list을 그 자리에서 정렬하고 목록 인덱스를 변경하고 None을 반환합니다.(모든 내부 작업은 동일).\n",
    "\n",
    "sorted()은 list뿐만 아니라 반복 가능한 모든 작업에 적용할 수 있습니다.\n",
    "\n",
    "문자열, 튜플, 딕셔너리, 제너레이터 등 모든 요소가 포함된 반복 가능한 객체를 정렬하여 반환합니다.\n",
    "\n",
    "따라서 list를 변경하려면 list.sort()를 사용하고, 새로운 정렬된 객체를 원하면 sorted()를 사용하면 됩니다.\n",
    "\n",
    "list의 경우에 list.sort()는 복사본을 만들 필요가 없으므로 sorted()보다 빠릅니다. 다른 이터레이터의 경우 선택의 여지가 없습니다. (sorted만 사용할 수 있기 때문)"
   ]
  },
  {
   "cell_type": "markdown",
   "metadata": {},
   "source": [
    "# 897\n",
    "https://leetcode.com/problems/increasing-order-search-tree/"
   ]
  },
  {
   "cell_type": "code",
   "execution_count": null,
   "metadata": {},
   "outputs": [],
   "source": []
  }
 ],
 "metadata": {
  "kernelspec": {
   "display_name": "aiffel",
   "language": "python",
   "name": "aiffel"
  },
  "language_info": {
   "codemirror_mode": {
    "name": "ipython",
    "version": 3
   },
   "file_extension": ".py",
   "mimetype": "text/x-python",
   "name": "python",
   "nbconvert_exporter": "python",
   "pygments_lexer": "ipython3",
   "version": "3.7.9"
  }
 },
 "nbformat": 4,
 "nbformat_minor": 4
}
