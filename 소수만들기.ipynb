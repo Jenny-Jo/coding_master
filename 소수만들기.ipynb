{
 "cells": [
  {
   "cell_type": "markdown",
   "id": "b614aefc",
   "metadata": {},
   "source": [
    "https://programmers.co.kr/learn/courses/30/lessons/12977\n",
    "주어진 숫자 중 3개의 수를 더했을 때 소수가 되는 경우의 개수를 구하려고 합니다. 숫자들이 들어있는 배열 nums가 매개변수로 주어질 때, nums에 있는 숫자들 중 서로 다른 3개를 골라 더했을 때 소수가 되는 경우의 개수를 return 하도록 solution 함수를 완성해주세요.\n",
    "\n",
    "제한사항\n",
    "- nums에 들어있는 숫자의 개수는 3개 이상 50개 이하입니다.\n",
    "- nums의 각 원소는 1 이상 1,000 이하의 자연수이며, 중복된 숫자가 들어있지 않습니다.\n",
    "\n",
    "nums\tresult\n",
    "[1,2,3,4]\t1\n",
    "[1,2,7,6,4]\t4\n",
    "\n",
    "입출력 예 설명\n",
    "입출력 예 #1\n",
    "[1,2,4]를 이용해서 7을 만들 수 있습니다.\n",
    "\n",
    "입출력 예 #2\n",
    "[1,2,4]를 이용해서 7을 만들 수 있습니다.\n",
    "[1,4,6]을 이용해서 11을 만들 수 있습니다.\n",
    "[2,4,7]을 이용해서 13을 만들 수 있습니다.\n",
    "[4,6,7]을 이용해서 17을 만들 수 있습니다."
   ]
  },
  {
   "cell_type": "code",
   "execution_count": 22,
   "id": "35a9cd49",
   "metadata": {},
   "outputs": [],
   "source": [
    "import itertools\n",
    "def solution(nums):\n",
    "    # 세 개의 숫자씩 더해서 나올수 있는 수의 조합을 구하기\n",
    "    result = list(itertools.combinations((nums),3))\n",
    "    temp = [] \n",
    "    for i in result:\n",
    "        temp.append(sum(i))\n",
    "    \n",
    "    def is_prime(n):\n",
    "        if n < 2 :\n",
    "            return False\n",
    "        for i in range(2,n):\n",
    "            if n%i ==0:\n",
    "                return False\n",
    "        return True\n",
    "    \n",
    "    prime = []\n",
    "    for i in temp:\n",
    "        if is_prime(i):\n",
    "            prime.append(i)\n",
    "    \n",
    "    return len(prime)"
   ]
  },
  {
   "cell_type": "code",
   "execution_count": 24,
   "id": "4368500e",
   "metadata": {},
   "outputs": [
    {
     "data": {
      "text/plain": [
       "1"
      ]
     },
     "execution_count": 24,
     "metadata": {},
     "output_type": "execute_result"
    }
   ],
   "source": [
    "a=[1,2,3,4]\t#1\n",
    "solution(a)"
   ]
  },
  {
   "cell_type": "code",
   "execution_count": 25,
   "id": "6e318d22",
   "metadata": {},
   "outputs": [
    {
     "data": {
      "text/plain": [
       "4"
      ]
     },
     "execution_count": 25,
     "metadata": {},
     "output_type": "execute_result"
    }
   ],
   "source": [
    "b=[1,2,7,6,4]\t#4\n",
    "solution(b)"
   ]
  },
  {
   "cell_type": "code",
   "execution_count": 43,
   "id": "0198768a",
   "metadata": {},
   "outputs": [],
   "source": [
    "# 쌈박한 풀이법\n",
    "def solution(nums):\n",
    "    from itertools import combinations as cb\n",
    "    answer = 0\n",
    "    for a in cb(nums, 3):\n",
    "        cand = sum(a) # 나는 temp에 따로 담아서 다시 일일이 꺼냈는데 여기선 바로 소수 판별을 해줬다.\n",
    "        for j in range(2, cand):\n",
    "            if cand%j==0:\n",
    "                break\n",
    "        else:\n",
    "            answer += 1\n",
    "    return answer\n"
   ]
  },
  {
   "cell_type": "code",
   "execution_count": 44,
   "id": "b9734033",
   "metadata": {},
   "outputs": [
    {
     "data": {
      "text/plain": [
       "42"
      ]
     },
     "execution_count": 44,
     "metadata": {},
     "output_type": "execute_result"
    }
   ],
   "source": [
    "a=[1,2,7,6,4]\t#4\n",
    "solution(a)"
   ]
  },
  {
   "cell_type": "code",
   "execution_count": 42,
   "id": "a6b50c31",
   "metadata": {},
   "outputs": [
    {
     "name": "stdout",
     "output_type": "stream",
     "text": [
      "소수 2\n",
      "소수 3\n",
      "소수 4\n"
     ]
    }
   ],
   "source": [
    "n=5\n",
    "for i in range(2,n):\n",
    "    if n%i==0:\n",
    "        print('소수아님',i)\n",
    "        break\n",
    "    else:\n",
    "        print('소수',i)\n",
    "    \n",
    "    "
   ]
  },
  {
   "cell_type": "markdown",
   "id": "fdae2a24",
   "metadata": {},
   "source": [
    "------------------------------------"
   ]
  },
  {
   "cell_type": "markdown",
   "id": "776662e9",
   "metadata": {},
   "source": [
    "# itertools\n",
    "\n",
    "https://yganalyst.github.io/etc/memo_18_itertools/\n",
    "순열, 조합 추출 하는 것은 itertools 사용하면 된다."
   ]
  },
  {
   "cell_type": "code",
   "execution_count": 2,
   "id": "fafa60b3",
   "metadata": {},
   "outputs": [
    {
     "name": "stdout",
     "output_type": "stream",
     "text": [
      "**경우의 수 : 6개\n",
      "[('1', '2'), ('1', '3'), ('1', '4'), ('2', '3'), ('2', '4'), ('3', '4')]\n"
     ]
    }
   ],
   "source": [
    "import itertools\n",
    "result = list(itertools.combinations(([\"1\",\"2\",\"3\",\"4\"]),2))\n",
    "print(\"**경우의 수 : %s개\" % len(result))\n",
    "print(result)"
   ]
  },
  {
   "cell_type": "code",
   "execution_count": 13,
   "id": "1aa768c6",
   "metadata": {},
   "outputs": [
    {
     "name": "stdout",
     "output_type": "stream",
     "text": [
      "**경우의 수 : 10개\n",
      "[(1, 2, 7), (1, 2, 6), (1, 2, 4), (1, 7, 6), (1, 7, 4), (1, 6, 4), (2, 7, 6), (2, 7, 4), (2, 6, 4), (7, 6, 4)]\n"
     ]
    }
   ],
   "source": [
    "x = [1,2,7,6,4]\t\n",
    "result = list(itertools.combinations((x),3))\n",
    "print(\"**경우의 수 : %s개\" % len(result))\n",
    "print(result)"
   ]
  },
  {
   "cell_type": "code",
   "execution_count": 21,
   "id": "19dde40d",
   "metadata": {},
   "outputs": [
    {
     "name": "stdout",
     "output_type": "stream",
     "text": [
      "10\n",
      "9\n",
      "7\n",
      "14\n",
      "12\n",
      "11\n",
      "15\n",
      "13\n",
      "12\n",
      "17\n"
     ]
    },
    {
     "data": {
      "text/plain": [
       "[7, 9, 10, 11, 12, 12, 13, 14, 15, 17]"
      ]
     },
     "execution_count": 21,
     "metadata": {},
     "output_type": "execute_result"
    }
   ],
   "source": [
    "temp=[]\n",
    "for i in result:\n",
    "    print(sum(i))\n",
    "    temp.append(sum(i))\n",
    "temp\n",
    "temp.sort()\n",
    "temp"
   ]
  },
  {
   "cell_type": "markdown",
   "id": "be40435a",
   "metadata": {},
   "source": [
    "# 소수 구하기\n",
    "https://wikidocs.net/21638"
   ]
  },
  {
   "cell_type": "markdown",
   "id": "c6c6a258",
   "metadata": {},
   "source": [
    "## 에라토스테네스의 체"
   ]
  },
  {
   "cell_type": "code",
   "execution_count": null,
   "id": "5f4cef14",
   "metadata": {},
   "outputs": [],
   "source": [
    "n=1000\n",
    "a = [False,False] + [True]*(n-1)\n",
    "primes=[]\n",
    "\n",
    "for i in range(2,n+1):\n",
    "      if a[i]:\n",
    "        primes.append(i)\n",
    "        for j in range(2*i, n+1, i):\n",
    "            a[j] = False\n",
    "print(primes)"
   ]
  },
  {
   "cell_type": "markdown",
   "id": "c3da077f",
   "metadata": {},
   "source": [
    "## 100이하의 수의 소수"
   ]
  },
  {
   "cell_type": "code",
   "execution_count": null,
   "id": "432414b1",
   "metadata": {},
   "outputs": [],
   "source": [
    "n=100\n",
    "\n",
    "def isPrime(a):\n",
    "    if(a<2):\n",
    "        return False\n",
    "    for i in range(2,a):\n",
    "        if(a%i==0):\n",
    "            return False\n",
    "    return True\n",
    "\n",
    "for i in range(n+1):\n",
    "    if(isPrime(i)):\n",
    "        print(i)"
   ]
  }
 ],
 "metadata": {
  "kernelspec": {
   "display_name": "Python 3",
   "language": "python",
   "name": "python3"
  },
  "language_info": {
   "codemirror_mode": {
    "name": "ipython",
    "version": 3
   },
   "file_extension": ".py",
   "mimetype": "text/x-python",
   "name": "python",
   "nbconvert_exporter": "python",
   "pygments_lexer": "ipython3",
   "version": "3.8.10"
  }
 },
 "nbformat": 4,
 "nbformat_minor": 5
}
