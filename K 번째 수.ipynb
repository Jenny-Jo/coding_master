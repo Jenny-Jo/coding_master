{
 "cells": [
  {
   "cell_type": "markdown",
   "id": "b665e74e",
   "metadata": {},
   "source": [
    "https://programmers.co.kr/learn/courses/30/lessons/42748"
   ]
  },
  {
   "cell_type": "code",
   "execution_count": 27,
   "id": "895d0c4e",
   "metadata": {},
   "outputs": [],
   "source": [
    "def solution(array, commands):\n",
    "    answer = []\n",
    "    for i in commands:\n",
    "        a = i[0] \n",
    "        b = i[1] \n",
    "        c = i[2]\n",
    "        \n",
    "        print('abc',a,b,c)\n",
    "        \n",
    "        s = array[a-1:b]\n",
    "        s.sort()\n",
    "        print('sorted',s)\n",
    "        \n",
    "        answer.append(s[c-1])\n",
    "        print('ans',answer)\n",
    "\n",
    "    return answer"
   ]
  },
  {
   "cell_type": "code",
   "execution_count": 30,
   "id": "f6e99524",
   "metadata": {},
   "outputs": [
    {
     "data": {
      "text/plain": [
       "[5, 6, 3]"
      ]
     },
     "execution_count": 30,
     "metadata": {},
     "output_type": "execute_result"
    }
   ],
   "source": [
    "array=[1, 5, 2, 6, 3, 7, 4]\n",
    "commands=[[2, 5, 3], [4, 4, 1], [1, 7, 3]]\n",
    "# return=[5, 6, 3]\n",
    "\n",
    "solution(array,commands)\n"
   ]
  },
  {
   "cell_type": "code",
   "execution_count": null,
   "id": "434b4fb0",
   "metadata": {},
   "outputs": [],
   "source": [
    "def solution(array, commands):\n",
    "    answer = []\n",
    "    for i in commands:\n",
    "        a = i[0] \n",
    "        b = i[1] \n",
    "        c = i[2]\n",
    "        \n",
    "        s = array[a-1:b]\n",
    "        s.sort()\n",
    "        \n",
    "        answer.append(s[c-1])\n",
    "        \n",
    "    return answer\n",
    "# 첫버전. 잘 통과했다."
   ]
  },
  {
   "cell_type": "code",
   "execution_count": 29,
   "id": "f1e6f22f",
   "metadata": {},
   "outputs": [],
   "source": [
    "def solution(array, commands):\n",
    "    answer = []\n",
    "    for i in commands:\n",
    "        i,j,k = i\n",
    "        answer.append(sorted(array[i-1:j])[k-1])\n",
    "    return answer\n",
    "\n",
    "# i,j,k= i 요거 !"
   ]
  },
  {
   "cell_type": "code",
   "execution_count": null,
   "id": "6077dfa6",
   "metadata": {},
   "outputs": [],
   "source": [
    "def solution(array, commands):\n",
    "    return list(map(lambda x : sorted(array[x[0]-1:x[1]])[x[2]-1], commands))"
   ]
  }
 ],
 "metadata": {
  "kernelspec": {
   "display_name": "Python 3",
   "language": "python",
   "name": "python3"
  },
  "language_info": {
   "codemirror_mode": {
    "name": "ipython",
    "version": 3
   },
   "file_extension": ".py",
   "mimetype": "text/x-python",
   "name": "python",
   "nbconvert_exporter": "python",
   "pygments_lexer": "ipython3",
   "version": "3.8.10"
  }
 },
 "nbformat": 4,
 "nbformat_minor": 5
}
