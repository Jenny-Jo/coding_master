{
 "cells": [
  {
   "cell_type": "code",
   "execution_count": null,
   "metadata": {},
   "outputs": [],
   "source": [
    "# 스택을 이용한 큐 규현\n",
    "class MyQueue:\n",
    "    def __init__(self):\n",
    "        self.input=[]\n",
    "        self.output=[]\n",
    "    \n",
    "    def push(self,x):\n",
    "        self.input.append(x)\n",
    "    \n",
    "    def pop(self):\n",
    "        self.peek()\n",
    "        return self.output.pop()\n",
    "    \n",
    "    def peek(self):\n",
    "        # output이 없으면 모두 재입력\n",
    "        if not self.output:\n",
    "            while self.input:\n",
    "                self.output.append(self.input.pop())\n",
    "        return self.output[-1]\n",
    "    \n",
    "    def empty(self):\n",
    "        return self.input == [] and self.output == []\n",
    "    "
   ]
  }
 ],
 "metadata": {
  "kernelspec": {
   "display_name": "aiffel",
   "language": "python",
   "name": "aiffel"
  },
  "language_info": {
   "codemirror_mode": {
    "name": "ipython",
    "version": 3
   },
   "file_extension": ".py",
   "mimetype": "text/x-python",
   "name": "python",
   "nbconvert_exporter": "python",
   "pygments_lexer": "ipython3",
   "version": "3.7.9"
  }
 },
 "nbformat": 4,
 "nbformat_minor": 4
}
