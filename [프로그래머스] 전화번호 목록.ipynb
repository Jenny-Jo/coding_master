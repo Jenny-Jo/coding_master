{
 "cells": [
  {
   "cell_type": "markdown",
   "metadata": {},
   "source": [
    "문제 : programmers.co.kr/learn/courses/30/lessons/42577﻿"
   ]
  },
  {
   "cell_type": "markdown",
   "metadata": {},
   "source": [
    "전화번호부에 적힌 전화번호 중, 한 번호가 다른 번호의 접두어인 경우가 있는지 확인하려 합니다.\n",
    "전화번호가 다음과 같을 경우, 구조대 전화번호는 영석이의 전화번호의 접두사입니다.\n",
    "\n",
    "구조대 : 119\n",
    "\n",
    "박준영 : 97 674 223\n",
    "\n",
    "지영석 : 11 9552 4421\n",
    "\n",
    "전화번호부에 적힌 전화번호를 담은 배열 phone_book 이 solution 함수의 매개변수로 주어질 때, 어떤 번호가 다른 번호의 접두어인 경우가 있으면 false를 그렇지 않으면 true를 return 하도록 solution 함수를 작성해주세요.\n",
    "\n",
    "제한 사항 :\n",
    "phone_book의 길이는 1 이상 1,000,000 이하입니다.\n",
    "각 전화번호의 길이는 1 이상 20 이하입니다.\n",
    "같은 전화번호가 중복해서 들어있지 않습니다.\n",
    "\n",
    "입출력 예제\n",
    "\n",
    "phone_book\treturn\n",
    "\n",
    "[\"119\", \"97674223\", \"1195524421\"]\tfalse\n",
    "\n",
    "[\"123\",\"456\",\"789\"]\ttrue\n",
    "\n",
    "[\"12\",\"123\",\"1235\",\"567\",\"88\"]\tfalse\n"
   ]
  },
  {
   "cell_type": "code",
   "execution_count": 1,
   "metadata": {},
   "outputs": [],
   "source": [
    "def solution(pb):\n",
    "    answer = True\n",
    "    for i in range(len(pb)):\n",
    "        for j in range(len(pb)):\n",
    "            if i == j:\n",
    "                pass\n",
    "            elif pb[i] == pb[j][:len(pb[i])]:\n",
    "                return not answer\n",
    "            else:\n",
    "                return answer"
   ]
  },
  {
   "cell_type": "code",
   "execution_count": 2,
   "metadata": {},
   "outputs": [],
   "source": [
    "pb = [\"119\", \"97674223\", \"1195524421\"]\n",
    "# pb = [\"12\", \"123\", \"1235\", \"567\", \"88\"]'\n",
    "# pb = \t[\"123\", \"456\", \"789\"]"
   ]
  },
  {
   "cell_type": "code",
   "execution_count": 3,
   "metadata": {},
   "outputs": [
    {
     "data": {
      "text/plain": [
       "True"
      ]
     },
     "execution_count": 3,
     "metadata": {},
     "output_type": "execute_result"
    }
   ],
   "source": [
    "solution(pb)"
   ]
  },
  {
   "cell_type": "code",
   "execution_count": 6,
   "metadata": {},
   "outputs": [],
   "source": [
    "def solution2(pb):\n",
    "    answer = True\n",
    "    for i in range(len(pb)):\n",
    "        for j in range(len(pb)):\n",
    "            print(i,j)\n",
    "            if i == j:\n",
    "                print(f'{i}번째 {j}번째 is the same number')\n",
    "                pass\n",
    "            elif pb[i] == pb[j][:len(pb[i])]:\n",
    "                print(f'pb[{i}], pb[{j}][:len(pb[{i}])] is the same, {len(pb[i])}')\n",
    "                return not answer\n",
    "            else:\n",
    "                return answer\n",
    "                pass"
   ]
  },
  {
   "cell_type": "code",
   "execution_count": 7,
   "metadata": {},
   "outputs": [
    {
     "name": "stdout",
     "output_type": "stream",
     "text": [
      "0 0\n",
      "0번째 0번째 is the same number\n",
      "0 1\n"
     ]
    },
    {
     "data": {
      "text/plain": [
       "True"
      ]
     },
     "execution_count": 7,
     "metadata": {},
     "output_type": "execute_result"
    }
   ],
   "source": [
    "solution2(pb)"
   ]
  },
  {
   "cell_type": "markdown",
   "metadata": {},
   "source": [
    "내가 의도한 것은 for문이 전체적으로 i,j 인덱스가 (0,0),(0,1),(0,2),(1,0),(1,1),(1,2),(2,0),(2,1),(2,2) 순으로 돌아가면서 찾는 것이었는데 다 돌아가지도 않고  결과값이 이상하게 나왔었다. 이상해서 다시 for 문이 어떻게 돌아갔나 직접 프린트 해서 보니까 i,j가 0,1일 때까지만 돌아가고 True를 반환하고 그 이상으로는 안돌아갔다. \n",
    "\n",
    "한참을 생각해보니까 elif 문에서 그냥 0번째 문자열 '119'에서 1번째 문자열에서 2번째까지인 '976'과 맞지 않다는 것까지만 확인하고 끝난 것 같았다. 그래서 while문을 넣어봤다.\n",
    "\n"
   ]
  },
  {
   "cell_type": "code",
   "execution_count": 9,
   "metadata": {},
   "outputs": [],
   "source": [
    "def solution3(pb):\n",
    "    answer = True\n",
    "    while True:\n",
    "        for i in range(len(pb)):\n",
    "            for j in range(len(pb)):\n",
    "                print(i,j)\n",
    "                if i == j:\n",
    "                    print(f'{i}번째 {j}번째 is the same number')\n",
    "                    pass\n",
    "                # elif pb[i] != pb[j][:len(pb[i])]:\n",
    "                #     return True\n",
    "                    \n",
    "                elif pb[i] == pb[j][:len(pb[i])]:\n",
    "                    print(f'pb[{i}], pb[{j}][:len(pb[{i}])] is the same, {len(pb[i])}')\n",
    "                    return False\n",
    "        break"
   ]
  },
  {
   "cell_type": "code",
   "execution_count": 10,
   "metadata": {},
   "outputs": [
    {
     "name": "stdout",
     "output_type": "stream",
     "text": [
      "0 0\n",
      "0번째 0번째 is the same number\n",
      "0 1\n",
      "0 2\n",
      "pb[0], pb[2][:len(pb[0])] is the same, 3\n"
     ]
    },
    {
     "data": {
      "text/plain": [
       "False"
      ]
     },
     "execution_count": 10,
     "metadata": {},
     "output_type": "execute_result"
    }
   ],
   "source": [
    "solution3(pb)"
   ]
  },
  {
   "cell_type": "markdown",
   "metadata": {},
   "source": [
    "제대로 나왔다. 다시 테스트 해보니\n",
    "pb = \t[\"123\", \"456\", \"789\"] 에서 막힌다"
   ]
  },
  {
   "cell_type": "code",
   "execution_count": 11,
   "metadata": {},
   "outputs": [
    {
     "name": "stdout",
     "output_type": "stream",
     "text": [
      "0 0\n",
      "0번째 0번째 is the same number\n",
      "0 1\n",
      "0 2\n",
      "1 0\n",
      "1 1\n",
      "1번째 1번째 is the same number\n",
      "1 2\n",
      "2 0\n",
      "2 1\n",
      "2 2\n",
      "2번째 2번째 is the same number\n"
     ]
    }
   ],
   "source": [
    " pb = [\"123\", \"456\", \"789\"]\n",
    "solution3(pb)"
   ]
  },
  {
   "cell_type": "markdown",
   "metadata": {},
   "source": [
    "여기서 null값이라고 나왔다고 하던데 다시 코드를 고쳐보겠다."
   ]
  },
  {
   "cell_type": "code",
   "execution_count": 21,
   "metadata": {},
   "outputs": [],
   "source": [
    "def solution4(pb):\n",
    "    answer = True\n",
    "    while True:\n",
    "        for i in range(len(pb)):\n",
    "            for j in range(len(pb)):\n",
    "                print(i,j)\n",
    "                if i == j:\n",
    "                    print(f'{i}번째 {j}번째 is the same number')\n",
    "                    pass\n",
    "                    \n",
    "                elif pb[i] == pb[j][:len(pb[i])]:\n",
    "                    print(f'pb[{i}], pb[{j}][:len(pb[{i}])] is the same, {len(pb[i])}')\n",
    "                    return not answer\n",
    "        return answer   # 여기 추가 : 모두 돌았을 때 아무것도 안나오면 True로 돌리기\n",
    "        break"
   ]
  },
  {
   "cell_type": "code",
   "execution_count": 22,
   "metadata": {},
   "outputs": [
    {
     "name": "stdout",
     "output_type": "stream",
     "text": [
      "0 0\n",
      "0번째 0번째 is the same number\n",
      "0 1\n",
      "0 2\n",
      "1 0\n",
      "1 1\n",
      "1번째 1번째 is the same number\n",
      "1 2\n",
      "2 0\n",
      "2 1\n",
      "2 2\n",
      "2번째 2번째 is the same number\n"
     ]
    },
    {
     "data": {
      "text/plain": [
       "True"
      ]
     },
     "execution_count": 22,
     "metadata": {},
     "output_type": "execute_result"
    }
   ],
   "source": [
    "# pb = [\"119\", \"97674223\", \"1195524421\"]\n",
    "# pb = [\"12\", \"123\", \"1235\", \"567\", \"88\"]\n",
    "pb = [\"123\", \"456\", \"789\"]\n",
    "solution4(pb)"
   ]
  },
  {
   "cell_type": "markdown",
   "metadata": {},
   "source": [
    "for문만 돌리기 때문에 효율성에선 떨어질 수 있으나 다시 테스트 해보겠다.\n",
    "역시나 시간초과로 문제가 틀렸다... ㅠㅠ\n",
    "\n",
    "정확성: 83.3\n",
    "\n",
    "효율성: 8.3\n",
    "\n",
    "합계: 91.7 / 100.0"
   ]
  },
  {
   "cell_type": "markdown",
   "metadata": {},
   "source": [
    "약간 찾아봤는데 sorted를 쓰는 경우가 있었다. 내가 왜 이걸 생각 못했을까?"
   ]
  },
  {
   "cell_type": "code",
   "execution_count": 91,
   "metadata": {},
   "outputs": [],
   "source": [
    "def solution5(pb):\n",
    "    answer = True\n",
    "    # 접두어가 있으면 False\n",
    "    pb = sorted(pb)\n",
    "    print(pb)\n",
    "    while True:\n",
    "        for i in range(len(pb)):\n",
    "            for j in range(i+1, len(pb)):\n",
    "                print(i,j)\n",
    "                if pb[i] == pb[j][:len(pb[i])]:\n",
    "#                     print(f'{i}는 {j}의 접두어다.')\n",
    "                    return not answer\n",
    "        return answer   \n",
    "        break"
   ]
  },
  {
   "cell_type": "code",
   "execution_count": 96,
   "metadata": {},
   "outputs": [],
   "source": [
    "# pb = [\"119\", \"97674223\", \"1195524421\"]\n",
    "pb = [\"88\",\"12\", \"123\", \"1235\", \"567\", ]\n",
    "# pb = [\"123\", \"456\", \"789\"]"
   ]
  },
  {
   "cell_type": "code",
   "execution_count": 97,
   "metadata": {},
   "outputs": [
    {
     "name": "stdout",
     "output_type": "stream",
     "text": [
      "['12', '123', '1235', '567', '88']\n",
      "0 1\n"
     ]
    },
    {
     "data": {
      "text/plain": [
       "False"
      ]
     },
     "execution_count": 97,
     "metadata": {},
     "output_type": "execute_result"
    }
   ],
   "source": [
    "solution5(pb)"
   ]
  },
  {
   "cell_type": "markdown",
   "metadata": {},
   "source": [
    "수많은 삽질로 어찌저찌 되나 싶었지만 이것도 안됨. 시간초과로 틀렸다. 이젠 정말 답지 보는 것 밖에 없다...!!!"
   ]
  },
  {
   "cell_type": "code",
   "execution_count": 99,
   "metadata": {},
   "outputs": [],
   "source": [
    "def solution(phone_book): \n",
    "    answer = True \n",
    "    phone_book.sort() \n",
    "    for i in range(len(phone_book)-1): \n",
    "        if phone_book[i] == phone_book[i+1][:len(phone_book[i])]: \n",
    "            answer = False \n",
    "            break \n",
    "            \n",
    "    return answer\n",
    "\n",
    "# 출처: https://somjang.tistory.com/entry/Programmers-정렬-전화번호-목록-Python [솜씨좋은장씨]"
   ]
  },
  {
   "cell_type": "markdown",
   "metadata": {},
   "source": [
    "일단 while문과 이중for문이 없어서 깔끔하다. 처음엔 range(len(phone_book)-1)이 뭔가 했는데 보니까 i번째와 i+1번째 까지만 비교하면 되는거라 마지막에 하나 빼주는 걸 알게 되었다. 한 두시간 넘게 삽질만 한거 같은데 그래도 답지를 보니 아예 삽질한게 아니란 걸 느낀다. "
   ]
  },
  {
   "cell_type": "code",
   "execution_count": 102,
   "metadata": {},
   "outputs": [],
   "source": [
    "# 또다른 풀이\n",
    "# 출처: https://ychae-leah.tistory.com/47\n",
    "def solution(phone_book):\n",
    "    phone_book.sort()\n",
    "    for p1, p2 in zip(phone_book, phone_book[1:]):\n",
    "        if p2.startswith(p1):\n",
    "            return False\n",
    "    return True"
   ]
  },
  {
   "cell_type": "markdown",
   "metadata": {},
   "source": [
    "zip, startswith가 눈에 띈다."
   ]
  },
  {
   "cell_type": "code",
   "execution_count": 109,
   "metadata": {},
   "outputs": [
    {
     "name": "stdout",
     "output_type": "stream",
     "text": [
      "12 123\n",
      "123 1235\n",
      "1235 567\n",
      "567 88\n",
      "['12', '123', '1235', '567', '88'] ['123', '1235', '567', '88']\n"
     ]
    }
   ],
   "source": [
    "for a,b in zip(pb,pb[1:]):\n",
    "    print(a,b)\n",
    "print(pb,pb[1:])"
   ]
  },
  {
   "cell_type": "code",
   "execution_count": 111,
   "metadata": {},
   "outputs": [
    {
     "name": "stdout",
     "output_type": "stream",
     "text": [
      "12 123\n",
      "123 1235\n"
     ]
    }
   ],
   "source": [
    "for a,b in zip(pb,pb[1:]):\n",
    "    if b.startswith(a):\n",
    "        print(a,b)"
   ]
  },
  {
   "cell_type": "markdown",
   "metadata": {},
   "source": [
    "근데 함수가 허용 안되는 코딩테스트에는 이걸 쓸 수 있을 지 의문이다. 어쨌거나 새로운 걸 알았음."
   ]
  }
 ],
 "metadata": {
  "kernelspec": {
   "display_name": "Python 3",
   "language": "python",
   "name": "python3"
  },
  "language_info": {
   "codemirror_mode": {
    "name": "ipython",
    "version": 3
   },
   "file_extension": ".py",
   "mimetype": "text/x-python",
   "name": "python",
   "nbconvert_exporter": "python",
   "pygments_lexer": "ipython3",
   "version": "3.7.9"
  }
 },
 "nbformat": 4,
 "nbformat_minor": 4
}
